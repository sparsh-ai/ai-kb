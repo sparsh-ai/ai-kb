{
 "cells": [
  {
   "cell_type": "code",
   "execution_count": null,
   "metadata": {},
   "outputs": [],
   "source": [
    "!pip install pyclickup"
   ]
  },
  {
   "cell_type": "code",
   "execution_count": null,
   "metadata": {},
   "outputs": [],
   "source": [
    "!pip install google-api-python-client"
   ]
  },
  {
   "cell_type": "code",
   "execution_count": null,
   "metadata": {},
   "outputs": [],
   "source": [
    "!pip install scrapetube"
   ]
  },
  {
   "cell_type": "code",
   "execution_count": 1,
   "metadata": {},
   "outputs": [],
   "source": [
    "from pyclickup import ClickUp"
   ]
  },
  {
   "cell_type": "code",
   "execution_count": 14,
   "metadata": {},
   "outputs": [],
   "source": [
    "import os\n",
    "from dotenv import load_dotenv\n",
    "\n",
    "load_dotenv()\n",
    "\n",
    "CLICKUP_TOKEN = os.getenv('CLICKUP_TOKEN')"
   ]
  },
  {
   "cell_type": "code",
   "execution_count": 3,
   "metadata": {},
   "outputs": [],
   "source": [
    "clickup = ClickUp(CLICKUP_TOKEN)"
   ]
  },
  {
   "cell_type": "code",
   "execution_count": 5,
   "metadata": {},
   "outputs": [
    {
     "data": {
      "text/plain": [
       "<pyclickup.Team[37378610] 'RecoHut'>"
      ]
     },
     "execution_count": 5,
     "metadata": {},
     "output_type": "execute_result"
    }
   ],
   "source": [
    "main_team = [x for x in clickup.teams if 'RecoHut' in x.name][0]\n",
    "main_team"
   ]
  },
  {
   "cell_type": "code",
   "execution_count": 6,
   "metadata": {},
   "outputs": [
    {
     "data": {
      "text/plain": [
       "<pyclickup.Space[55471709] 'AI'>"
      ]
     },
     "execution_count": 6,
     "metadata": {},
     "output_type": "execute_result"
    }
   ],
   "source": [
    "ai_space = [x for x in main_team.spaces if 'AI' in x.name][0]\n",
    "ai_space"
   ]
  },
  {
   "cell_type": "code",
   "execution_count": 7,
   "metadata": {},
   "outputs": [
    {
     "data": {
      "text/plain": [
       "(<pyclickup.List[175417459] 'Contracts'>,\n",
       " <pyclickup.List[175494353] 'Open source'>)"
      ]
     },
     "execution_count": 7,
     "metadata": {},
     "output_type": "execute_result"
    }
   ],
   "source": [
    "contracts = ai_space.projects[0].lists[0]\n",
    "open_source = ai_space.projects[1].lists[0]\n",
    "contracts, open_source"
   ]
  },
  {
   "cell_type": "code",
   "execution_count": 8,
   "metadata": {},
   "outputs": [
    {
     "data": {
      "text/plain": [
       "[<pyclickup.Task[28erkec] 'Bridgera'>,\n",
       " <pyclickup.Task[27j2ugk] 'William Flanagan'>,\n",
       " <pyclickup.Task[27cf7xq] 'Buks Finance'>,\n",
       " <pyclickup.Task[257jhfm] 'Infosys Ltd.'>,\n",
       " <pyclickup.Task[2522dyt] 'Anthem Insurance'>,\n",
       " <pyclickup.Task[2522duq] 'IAG Insurance'>,\n",
       " <pyclickup.Task[2522du9] 'Suncorp Insurance Ltd.'>,\n",
       " <pyclickup.Task[251ww69] 'Sravani Borra'>,\n",
       " <pyclickup.Task[251ww63] 'IQ IT and Engineering Services Pvt. Ltd.'>,\n",
       " <pyclickup.Task[251ww1j] 'Noor Ali'>,\n",
       " <pyclickup.Task[251wvz8] 'Kwik Code'>,\n",
       " <pyclickup.Task[245d51p] 'Dalia Ali'>,\n",
       " <pyclickup.Task[245d51k] 'Yaki Noel'>,\n",
       " <pyclickup.Task[245d51a] 'Travelers Insurance Ltd.'>,\n",
       " <pyclickup.Task[245d50v] 'Amal Sham'>,\n",
       " <pyclickup.Task[245d50t] 'Massimo Malandra'>,\n",
       " <pyclickup.Task[245d50k] 'Wynisco Pvt. Ltd.'>,\n",
       " <pyclickup.Task[245d50d] 'Netsmartz Pvt. Ltd.'>,\n",
       " <pyclickup.Task[245d4zx] 'Bimbiphilips Pvt. Ltd.'>,\n",
       " <pyclickup.Task[245d4zj] 'Zdaly Pvt. Ltd.'>,\n",
       " <pyclickup.Task[22qqju8] 'Yaki Noe's Utilmy library tasks'>,\n",
       " <pyclickup.Task[22c28kj] 'Dalia Ali Recommender'>]"
      ]
     },
     "execution_count": 8,
     "metadata": {},
     "output_type": "execute_result"
    }
   ],
   "source": [
    "contracts.get_all_tasks(include_closed=True)"
   ]
  },
  {
   "cell_type": "markdown",
   "metadata": {},
   "source": [
    "### Task - Add youtube playlist vidoes as sub-task in the open-source list"
   ]
  },
  {
   "cell_type": "code",
   "execution_count": 16,
   "metadata": {},
   "outputs": [],
   "source": [
    "YOUTUBE_API = os.getenv('YOUTUBE_API')"
   ]
  },
  {
   "cell_type": "code",
   "execution_count": 19,
   "metadata": {},
   "outputs": [
    {
     "name": "stdout",
     "output_type": "stream",
     "text": [
      "Total Subscriber:-  31600\n",
      "Total Number of Videos:-  88\n",
      "Total Views:-  1356699\n"
     ]
    }
   ],
   "source": [
    "from googleapiclient.discovery import build\n",
    " \n",
    "youtube = build('youtube', 'v3', developerKey=YOUTUBE_API)\n",
    " \n",
    "ch_request = youtube.channels().list(\n",
    "    part='statistics',\n",
    "    id='UC7Fs-Fdpe0I8GYg3lboEuXw')\n",
    " \n",
    "# Channel Information\n",
    "ch_response = ch_request.execute()\n",
    " \n",
    "sub = ch_response['items'][0]['statistics']['subscriberCount']\n",
    "vid = ch_response['items'][0]['statistics']['videoCount']\n",
    "views = ch_response['items'][0]['statistics']['viewCount']\n",
    " \n",
    "print(\"Total Subscriber:- \", sub)\n",
    "print(\"Total Number of Videos:- \", vid)\n",
    "print(\"Total Views:- \", views)"
   ]
  },
  {
   "cell_type": "code",
   "execution_count": 21,
   "metadata": {},
   "outputs": [],
   "source": [
    "snippetdata = youtube.channels().list(part=\"snippet\",id='UC7Fs-Fdpe0I8GYg3lboEuXw').execute()"
   ]
  },
  {
   "cell_type": "code",
   "execution_count": 26,
   "metadata": {},
   "outputs": [],
   "source": [
    "DEVELOPER_KEY = YOUTUBE_API\n",
    "YOUTUBE_API_SERVICE_NAME = \"youtube\"\n",
    "YOUTUBE_API_VERSION = \"v3\""
   ]
  },
  {
   "cell_type": "code",
   "execution_count": null,
   "metadata": {},
   "outputs": [],
   "source": [
    "import scrapetube"
   ]
  },
  {
   "cell_type": "code",
   "execution_count": 31,
   "metadata": {},
   "outputs": [],
   "source": [
    "channel_id = 'UC7Fs-Fdpe0I8GYg3lboEuXw'"
   ]
  },
  {
   "cell_type": "code",
   "execution_count": 32,
   "metadata": {},
   "outputs": [
    {
     "data": {
      "text/plain": [
       "<generator object get_channel at 0x11c1bdb30>"
      ]
     },
     "execution_count": 32,
     "metadata": {},
     "output_type": "execute_result"
    }
   ],
   "source": [
    "videos = scrapetube.get_channel(channel_id)"
   ]
  },
  {
   "cell_type": "code",
   "execution_count": 48,
   "metadata": {},
   "outputs": [],
   "source": [
    "from tqdm.auto import tqdm"
   ]
  },
  {
   "cell_type": "code",
   "execution_count": 49,
   "metadata": {},
   "outputs": [
    {
     "name": "stderr",
     "output_type": "stream",
     "text": [
      "84it [00:03, 22.96it/s]\n"
     ]
    }
   ],
   "source": [
    "x = []\n",
    "\n",
    "for video in tqdm(videos):\n",
    "    x.append({'video_id':video['videoId'],\n",
    "              'title': video['title']['accessibility']['accessibilityData']['label'],\n",
    "              'url': video['navigationEndpoint']['commandMetadata']['webCommandMetadata']['url']})"
   ]
  },
  {
   "cell_type": "code",
   "execution_count": 50,
   "metadata": {},
   "outputs": [
    {
     "data": {
      "text/html": [
       "<div>\n",
       "<style scoped>\n",
       "    .dataframe tbody tr th:only-of-type {\n",
       "        vertical-align: middle;\n",
       "    }\n",
       "\n",
       "    .dataframe tbody tr th {\n",
       "        vertical-align: top;\n",
       "    }\n",
       "\n",
       "    .dataframe thead th {\n",
       "        text-align: right;\n",
       "    }\n",
       "</style>\n",
       "<table border=\"1\" class=\"dataframe\">\n",
       "  <thead>\n",
       "    <tr style=\"text-align: right;\">\n",
       "      <th></th>\n",
       "      <th>video_id</th>\n",
       "      <th>title</th>\n",
       "      <th>url</th>\n",
       "    </tr>\n",
       "  </thead>\n",
       "  <tbody>\n",
       "    <tr>\n",
       "      <th>0</th>\n",
       "      <td>v6VJ2RO66Ag</td>\n",
       "      <td>Random Forest Algorithm Clearly Explained! by ...</td>\n",
       "      <td>/watch?v=v6VJ2RO66Ag</td>\n",
       "    </tr>\n",
       "    <tr>\n",
       "      <th>1</th>\n",
       "      <td>DY7Q1fDMsr8</td>\n",
       "      <td>What's my Data Science background? QnA | NORMA...</td>\n",
       "      <td>/watch?v=DY7Q1fDMsr8</td>\n",
       "    </tr>\n",
       "    <tr>\n",
       "      <th>2</th>\n",
       "      <td>G7FIQ9fXl6U</td>\n",
       "      <td>Markov Chains: Simulation in Python | Stationa...</td>\n",
       "      <td>/watch?v=G7FIQ9fXl6U</td>\n",
       "    </tr>\n",
       "    <tr>\n",
       "      <th>3</th>\n",
       "      <td>9-sPm4CfcD0</td>\n",
       "      <td>Forward Algorithm Clearly Explained | Hidden M...</td>\n",
       "      <td>/watch?v=9-sPm4CfcD0</td>\n",
       "    </tr>\n",
       "    <tr>\n",
       "      <th>4</th>\n",
       "      <td>3I8oX3OUL6I</td>\n",
       "      <td>Naive Bayes Classifier in Python (from scratch...</td>\n",
       "      <td>/watch?v=3I8oX3OUL6I</td>\n",
       "    </tr>\n",
       "    <tr>\n",
       "      <th>...</th>\n",
       "      <td>...</td>\n",
       "      <td>...</td>\n",
       "      <td>...</td>\n",
       "    </tr>\n",
       "    <tr>\n",
       "      <th>79</th>\n",
       "      <td>fyv-20xEsxU</td>\n",
       "      <td>How to Deploy Machine Learning Model from Scra...</td>\n",
       "      <td>/watch?v=fyv-20xEsxU</td>\n",
       "    </tr>\n",
       "    <tr>\n",
       "      <th>80</th>\n",
       "      <td>gUsygJG4t0k</td>\n",
       "      <td>How to use Google Colaboratory by Normalized N...</td>\n",
       "      <td>/watch?v=gUsygJG4t0k</td>\n",
       "    </tr>\n",
       "    <tr>\n",
       "      <th>81</th>\n",
       "      <td>0IZ22FVcNpU</td>\n",
       "      <td>How to Deploy Machine Learning Model from Scra...</td>\n",
       "      <td>/watch?v=0IZ22FVcNpU</td>\n",
       "    </tr>\n",
       "    <tr>\n",
       "      <th>82</th>\n",
       "      <td>fEXgDxg698E</td>\n",
       "      <td>How to Deploy Machine Learning Model from Scra...</td>\n",
       "      <td>/watch?v=fEXgDxg698E</td>\n",
       "    </tr>\n",
       "    <tr>\n",
       "      <th>83</th>\n",
       "      <td>4S4_YbMmiSw</td>\n",
       "      <td>How to Deploy Machine Learning Model from Scra...</td>\n",
       "      <td>/watch?v=4S4_YbMmiSw</td>\n",
       "    </tr>\n",
       "  </tbody>\n",
       "</table>\n",
       "<p>84 rows × 3 columns</p>\n",
       "</div>"
      ],
      "text/plain": [
       "       video_id                                              title  \\\n",
       "0   v6VJ2RO66Ag  Random Forest Algorithm Clearly Explained! by ...   \n",
       "1   DY7Q1fDMsr8  What's my Data Science background? QnA | NORMA...   \n",
       "2   G7FIQ9fXl6U  Markov Chains: Simulation in Python | Stationa...   \n",
       "3   9-sPm4CfcD0  Forward Algorithm Clearly Explained | Hidden M...   \n",
       "4   3I8oX3OUL6I  Naive Bayes Classifier in Python (from scratch...   \n",
       "..          ...                                                ...   \n",
       "79  fyv-20xEsxU  How to Deploy Machine Learning Model from Scra...   \n",
       "80  gUsygJG4t0k  How to use Google Colaboratory by Normalized N...   \n",
       "81  0IZ22FVcNpU  How to Deploy Machine Learning Model from Scra...   \n",
       "82  fEXgDxg698E  How to Deploy Machine Learning Model from Scra...   \n",
       "83  4S4_YbMmiSw  How to Deploy Machine Learning Model from Scra...   \n",
       "\n",
       "                     url  \n",
       "0   /watch?v=v6VJ2RO66Ag  \n",
       "1   /watch?v=DY7Q1fDMsr8  \n",
       "2   /watch?v=G7FIQ9fXl6U  \n",
       "3   /watch?v=9-sPm4CfcD0  \n",
       "4   /watch?v=3I8oX3OUL6I  \n",
       "..                   ...  \n",
       "79  /watch?v=fyv-20xEsxU  \n",
       "80  /watch?v=gUsygJG4t0k  \n",
       "81  /watch?v=0IZ22FVcNpU  \n",
       "82  /watch?v=fEXgDxg698E  \n",
       "83  /watch?v=4S4_YbMmiSw  \n",
       "\n",
       "[84 rows x 3 columns]"
      ]
     },
     "execution_count": 50,
     "metadata": {},
     "output_type": "execute_result"
    }
   ],
   "source": [
    "dfx = pd.DataFrame(x)\n",
    "dfx"
   ]
  },
  {
   "cell_type": "code",
   "execution_count": 71,
   "metadata": {},
   "outputs": [],
   "source": [
    "clickup.api_url = 'https://api.clickup.com/api/v1/'"
   ]
  },
  {
   "cell_type": "code",
   "execution_count": 125,
   "metadata": {},
   "outputs": [],
   "source": [
    "x = open_source.get_all_tasks(include_closed=True)[1].assignees[0]"
   ]
  },
  {
   "cell_type": "code",
   "execution_count": 148,
   "metadata": {},
   "outputs": [
    {
     "data": {
      "text/plain": [
       "{'err': 'invalid input syntax for integer: \"<pyclickup.User[32643259] \\'Sparsh Agarwal\\'>\"',\n",
       " 'ECODE': 'ITEM_085'}"
      ]
     },
     "execution_count": 148,
     "metadata": {},
     "output_type": "execute_result"
    }
   ],
   "source": [
    "clickup.post(path=\"list/{}/task\".format(open_source.id),\n",
    "                data={\"name\":\"Test NN\",\n",
    "                    \"content\": \"Url: https://www.youtube.com{}\".format(\"watch?v=fyv-20xEsxU\"),\n",
    "                    \"assignees\": [clickup.user,clickup.user],\n",
    "                    \"priority\": 3,\n",
    "                    \"tags\": [\"youtube\",\"\"],\n",
    "                    \"parent\": \"28ettbm\"})"
   ]
  },
  {
   "cell_type": "code",
   "execution_count": 149,
   "metadata": {},
   "outputs": [],
   "source": [
    "def create_task(row):\n",
    "    clickup.post(path=\"list/{}/task\".format(open_source.id),\n",
    "                 data={\"name\":row.title,\n",
    "                       \"content\": \"Url: https://www.youtube.com{}\".format(row.url),\n",
    "                       \"assignees\": [32643259,32643259],\n",
    "                       \"tags\": [\"youtube\",\"\"],\n",
    "                       \"parent\": \"28ettbm\"})"
   ]
  },
  {
   "cell_type": "code",
   "execution_count": null,
   "metadata": {},
   "outputs": [],
   "source": [
    "_ = dfx.apply(create_task, axis=1)"
   ]
  },
  {
   "cell_type": "code",
   "execution_count": null,
   "metadata": {},
   "outputs": [],
   "source": []
  }
 ],
 "metadata": {
  "interpreter": {
   "hash": "aee8b7b246df8f9039afb4144a1f6fd8d2ca17a180786b69acc140d282b71a49"
  },
  "kernelspec": {
   "display_name": "Python 3.9.10 64-bit",
   "language": "python",
   "name": "python3"
  },
  "language_info": {
   "codemirror_mode": {
    "name": "ipython",
    "version": 3
   },
   "file_extension": ".py",
   "mimetype": "text/x-python",
   "name": "python",
   "nbconvert_exporter": "python",
   "pygments_lexer": "ipython3",
   "version": "3.9.7"
  },
  "orig_nbformat": 4
 },
 "nbformat": 4,
 "nbformat_minor": 2
}
