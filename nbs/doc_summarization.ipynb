{
 "cells": [
  {
   "cell_type": "markdown",
   "metadata": {},
   "source": [
    "# Document Summarization\n",
    "\n",
    "In this notebook, we'll deploy and use a document summarization model\n",
    "from the [transformers](https://huggingface.co/transformers/) library\n",
    "which uses PyTorch.\n",
    "\n",
    "Summarization is useful when you want to distill the information found in\n",
    "a large amount of text down to a few sentences. We'll be using an\n",
    "'extractive' summarization method in this notebook, that extracts the\n",
    "most important sentences from the document verbatim. We don't cover\n",
    "'abstractive' summarization here, because it's a lot more challenging and\n",
    "error prone to generate new sentences that summarize the document.\n",
    "\n",
    "**Note**: When running this notebook on SageMaker Studio, you should make\n",
    "sure the 'SageMaker JumpStart PyTorch 1.0' image/kernel is used. When\n",
    "running this notebook on SageMaker Notebook Instance, you should make\n",
    "sure the 'sagemaker-soln' kernel is used."
   ]
  },
  {
   "cell_type": "markdown",
   "metadata": {},
   "source": [
    "This solution relies on a config file to run the provisioned AWS resources. Run the cell below to generate that file."
   ]
  },
  {
   "cell_type": "code",
   "execution_count": null,
   "metadata": {},
   "outputs": [],
   "source": [
    "import boto3\n",
    "import os\n",
    "import json\n",
    "\n",
    "client = boto3.client('servicecatalog')\n",
    "cwd = os.getcwd().split('/')\n",
    "i= cwd.index('S3Downloads')\n",
    "pp_name = cwd[i + 1]\n",
    "pp = client.describe_provisioned_product(Name=pp_name)\n",
    "record_id = pp['ProvisionedProductDetail']['LastSuccessfulProvisioningRecordId']\n",
    "record = client.describe_record(Id=record_id)\n",
    "\n",
    "keys = [ x['OutputKey'] for x in record['RecordOutputs'] if 'OutputKey' and 'OutputValue' in x]\n",
    "values = [ x['OutputValue'] for x in record['RecordOutputs'] if 'OutputKey' and 'OutputValue' in x]\n",
    "stack_output = dict(zip(keys, values))\n",
    "\n",
    "with open(f'/root/S3Downloads/{pp_name}/stack_outputs.json', 'w') as f:\n",
    "    json.dump(stack_output, f)"
   ]
  },
  {
   "cell_type": "markdown",
   "metadata": {},
   "source": [
    "We start by importing a variety of packages that will be used throughout\n",
    "the notebook. One of the most important packages is the Amazon SageMaker\n",
    "Python SDK (i.e. `import sagemaker`). We also import modules from our own\n",
    "custom (and editable) package that can be found at `../package`."
   ]
  },
  {
   "cell_type": "code",
   "execution_count": null,
   "metadata": {},
   "outputs": [],
   "source": [
    "import boto3\n",
    "import sagemaker\n",
    "from sagemaker.pytorch import PyTorchModel\n",
    "import sys\n",
    "\n",
    "sys.path.insert(0, '../package')\n",
    "from package import config, utils"
   ]
  },
  {
   "cell_type": "markdown",
   "metadata": {},
   "source": [
    "Up next, we define the current folder and create a SageMaker client (from\n",
    "`boto3`). We can use the SageMaker client to call SageMaker APIs\n",
    "directly, as an alternative to using the Amazon SageMaker SDK. We'll use\n",
    "it at the end of the notebook to delete certain resources that are\n",
    "created in this notebook."
   ]
  },
  {
   "cell_type": "code",
   "execution_count": null,
   "metadata": {},
   "outputs": [],
   "source": [
    "current_folder = utils.get_current_folder(globals())\n",
    "sagemaker_client = boto3.client('sagemaker')"
   ]
  },
  {
   "cell_type": "markdown",
   "metadata": {},
   "source": [
    "Our text summarization system needs a machine learning model. In this\n",
    "section, we'll deploy a model to an Amazon SageMaker Endpoint and then\n",
    "invoke the endpoint from the notebook. We'll use a pre-trained model from\n",
    "the [transformers](https://huggingface.co/transformers/) library instead\n",
    "of training a model from scratch, specifically the T5 Base model.\n",
    "\n",
    "We'll use the unique solution prefix to name the model and endpoint."
   ]
  },
  {
   "cell_type": "code",
   "execution_count": null,
   "metadata": {},
   "outputs": [],
   "source": [
    "model_name = \"{}-summarization\".format(config.SOLUTION_PREFIX)"
   ]
  },
  {
   "cell_type": "markdown",
   "metadata": {},
   "source": [
    "Up next, we need to define the Amazon SageMaker Model which references\n",
    "the source code and the specifies which container to use. Our pre-trained\n",
    "model is from the transformers library which uses PyTorch. As a result,\n",
    "we should use the PyTorchModel from the Amazon SageMaker Python SDK.\n",
    "Using PyTorchModel and setting the framework_version argument, means that\n",
    "our deployed model will run inside a container that has PyTorch\n",
    "pre-installed. Other requirements can be installed by defining a\n",
    "requirements.txt file at the specified source_dir location. We use the\n",
    "entry_point argument to reference the code (within source_dir) that\n",
    "should be run for model inference: functions called model_fn, input_fn,\n",
    "predict_fn and output_fn are expected to be defined. And lastly, you can\n",
    "pass `model_data` from a training job, but we are going to load the\n",
    "pre-trained model in the source code running on the endpoint. We still\n",
    "need to provide `model_data`, so we pass an empty archive."
   ]
  },
  {
   "cell_type": "code",
   "execution_count": null,
   "metadata": {},
   "outputs": [],
   "source": [
    "model = PyTorchModel(\n",
    "    name=model_name,\n",
    "    model_data=f'{config.SOURCE_S3_PATH}/models/empty.tar.gz',\n",
    "    entry_point='entry_point.py',\n",
    "    source_dir='../containers/summarization',\n",
    "    role=config.IAM_ROLE,\n",
    "    framework_version='1.5.0',\n",
    "    py_version='py3',\n",
    "    code_location='s3://' + config.S3_BUCKET + '/code',\n",
    "    env={\n",
    "        'MODEL_ASSETS_S3_BUCKET': config.SOURCE_S3_BUCKET,\n",
    "        'MODEL_ASSETS_S3_PREFIX': f\"{config.SOURCE_S3_PREFIX}/models/summarization/\"\n",
    "    }\n",
    ")"
   ]
  },
  {
   "cell_type": "markdown",
   "metadata": {},
   "source": [
    "Using this Amazon SageMaker Model, we can deploy a HTTPS endpoint on a\n",
    "dedicated instance. We choose to deploy the endpoint on a single\n",
    "ml.p3.2xlarge instance (or ml.g4dn.2xlarge if unavailable in this\n",
    "region). Our summarization model is transfomer that benefits from GPU\n",
    "optimization, and a ml.p3.2xlarge has a high performance NVIDIA V100 GPU\n",
    "that can reduce inference latency on each request. You can expect this\n",
    "deployment step to take around 5 minutes. After approximately 15 dashes,\n",
    "you can expect to see an exclamation mark which indicates a successful\n",
    "deployment."
   ]
  },
  {
   "cell_type": "code",
   "execution_count": null,
   "metadata": {},
   "outputs": [],
   "source": [
    "from sagemaker.serializers import JSONSerializer\n",
    "from sagemaker.deserializers import JSONDeserializer\n",
    "\n",
    "predictor = model.deploy(\n",
    "    endpoint_name=model_name,\n",
    "    instance_type=config.HOSTING_INSTANCE_TYPE,\n",
    "    initial_instance_count=1,\n",
    "    serializer=JSONSerializer(),\n",
    "    deserializer=JSONDeserializer()\n",
    ")"
   ]
  },
  {
   "cell_type": "markdown",
   "metadata": {},
   "source": [
    "When you're trying to update the model for development purposes, but\n",
    "experiencing issues because the model/endpoint-config/endpoint already\n",
    "exists, you can delete the existing model/endpoint-config/endpoint by\n",
    "uncommenting and running the following commands:"
   ]
  },
  {
   "cell_type": "code",
   "execution_count": null,
   "metadata": {},
   "outputs": [],
   "source": [
    "# sagemaker_client.delete_endpoint(EndpointName=model_name)\n",
    "# sagemaker_client.delete_endpoint_config(EndpointConfigName=model_name)\n",
    "# sagemaker_client.delete_model(ModelName=model_name)"
   ]
  },
  {
   "cell_type": "markdown",
   "metadata": {
    "lines_to_next_cell": 2
   },
   "source": [
    "When calling our new endpoint from the notebook, we use a Amazon\n",
    "SageMaker SDK\n",
    "[`Predictor`](https://sagemaker.readthedocs.io/en/stable/predictors.html).\n",
    "A `Predictor` is used to send data to an endpoint (as part of a request),\n",
    "and interpret the response. Our `model.deploy` command returned a\n",
    "`Predictor` but, by default, it will send and receive numpy arrays. Our\n",
    "endpoint expects to receive (and also sends) JSON formatted objects, so\n",
    "we modify the `Predictor` to use JSON instead of the PyTorch endpoint\n",
    "default of numpy arrays. JSON is used here because it is a standard\n",
    "endpoint format and the endpoint response can contain nested data\n",
    "structures."
   ]
  },
  {
   "cell_type": "markdown",
   "metadata": {},
   "source": [
    "With our model successfully deployed and our predictor configured, we can\n",
    "try out the summarizer out on example inputs. All we need to do is\n",
    "construct a dictionary object with a single key called `text` and provide\n",
    "the the input string. We call `predict` on our predictor and we should\n",
    "get a response from the endpoint that contains the summary."
   ]
  },
  {
   "cell_type": "code",
   "execution_count": null,
   "metadata": {},
   "outputs": [],
   "source": [
    "ARTICLE = \"\"\" Documents are a primary tool for communication,\n",
    "collaboration, record keeping, and transactions across industries,\n",
    "including financial, medical, legal, and real estate. The format of data\n",
    "can pose an extra challenge in data extraction, especially if the content\n",
    "is typed, handwritten, or embedded in a form or table. Furthermore,\n",
    "extracting data from your documents is manual, error-prone, time-consuming,\n",
    "expensive, and does not scale. Amazon Textract is a machine learning (ML)\n",
    "service that extracts printed text and other data from documents as well as\n",
    "tables and forms. We’re pleased to announce two new features for Amazon\n",
    "Textract: support for handwriting in English documents, and expanding\n",
    "language support for extracting printed text from documents typed in\n",
    "Spanish, Portuguese, French, German, and Italian. Many documents, such as\n",
    "medical intake forms or employment applications, contain both handwritten\n",
    "and printed text. The ability to extract text and handwriting has been a\n",
    "need our customers have asked us for. Amazon Textract can now extract\n",
    "printed text and handwriting from documents written in English with high\n",
    "confidence scores, whether it’s free-form text or text embedded in tables\n",
    "and forms. Documents can also contain a mix of typed text or handwritten\n",
    "text. The following image shows an example input document containing a mix\n",
    "of typed and handwritten text, and its converted output document. You can\n",
    "log in to the Amazon Textract console to test out the handwriting feature,\n",
    "or check out the new demo by Amazon Machine Learning Hero Mike Chambers.\n",
    "Not only can you upload documents with both printed text and handwriting,\n",
    "you can also use Amazon Augmented AI (Amazon A2I), which makes it easy to\n",
    "build workflows for a human review of the ML predictions. Adding in Amazon\n",
    "A2I can help you get to market faster by having your employees or AWS\n",
    "Marketplace contractors review the Amazon Textract output for sensitive\n",
    "workloads. For more information about implementing a human review, see\n",
    "Using Amazon Textract with Amazon Augmented AI for processing critical\n",
    "documents. If you want to use one of our AWS Partners, take a look at how\n",
    "Quantiphi is using handwriting recognition for their customers.\n",
    "Additionally, we’re pleased to announce our language expansion. Customers\n",
    "can now extract and process documents in more languages. Amazon Textract\n",
    "now supports processing printed documents in Spanish, German, Italian,\n",
    "French, and Portuguese. You can send documents in these languages,\n",
    "including forms and tables, for data and text extraction, and Amazon\n",
    "Textract automatically detects and extracts the information for you. You\n",
    "can simply upload the documents on the Amazon Textract console or send them\n",
    "using either the AWS Command Line Interface (AWS CLI) or AWS SDKs.\"\"\""
   ]
  },
  {
   "cell_type": "code",
   "execution_count": null,
   "metadata": {},
   "outputs": [],
   "source": [
    "data = {'text': ARTICLE}\n",
    "response = predictor.predict(data=data)"
   ]
  },
  {
   "cell_type": "markdown",
   "metadata": {},
   "source": [
    "We have the responce and we can print out the summary that has been\n",
    "extracted from the text above."
   ]
  },
  {
   "cell_type": "code",
   "execution_count": null,
   "metadata": {},
   "outputs": [],
   "source": [
    "print(response['summary'])"
   ]
  },
  {
   "cell_type": "markdown",
   "metadata": {},
   "source": [
    "You can try more examples above, but note that this model has been\n",
    "pretrained on a news dataset. You may need to fine-tune this model with\n",
    "your own summarizations to obtain better results."
   ]
  },
  {
   "cell_type": "markdown",
   "metadata": {},
   "source": [
    "## Clean Up\n",
    "\n",
    "When you've finished with the summarization endpoint (and associated\n",
    "endpoint-config), make sure that you delete it to avoid accidental\n",
    "charges."
   ]
  },
  {
   "cell_type": "code",
   "execution_count": null,
   "metadata": {},
   "outputs": [],
   "source": [
    "sagemaker_client.delete_endpoint(EndpointName=model_name)\n",
    "sagemaker_client.delete_endpoint_config(EndpointConfigName=model_name)"
   ]
  },
  {
   "cell_type": "markdown",
   "metadata": {},
   "source": [
    "## Next Stage\n",
    "\n",
    "We've just looked at how to analyse documents from a high level. Up next\n",
    "we'll look at a technique that can be used to query the document for\n",
    "specifics, called Question Answering.\n",
    "\n",
    "[Click here to continue.](./2_question_answering.ipynb)"
   ]
  }
 ],
 "metadata": {
  "instance_type": "ml.t3.medium",
  "jupytext": {
   "cell_metadata_filter": "-all",
   "main_language": "python",
   "notebook_metadata_filter": "-all"
  },
  "kernelspec": {
   "display_name": "Python 3 (PyTorch 1.8 Python 3.6 CPU Optimized)",
   "language": "python",
   "name": "python3__SAGEMAKER_INTERNAL__arn:aws:sagemaker:us-east-1:081325390199:image/1.8.1-cpu-py36"
  },
  "language_info": {
   "codemirror_mode": {
    "name": "ipython",
    "version": 3
   },
   "file_extension": ".py",
   "mimetype": "text/x-python",
   "name": "python",
   "nbconvert_exporter": "python",
   "pygments_lexer": "ipython3",
   "version": "3.6.13"
  }
 },
 "nbformat": 4,
 "nbformat_minor": 4
}
